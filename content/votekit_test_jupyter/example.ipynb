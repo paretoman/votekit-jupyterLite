{
  "metadata": {
    "language_info": {
      "codemirror_mode": {
        "name": "python",
        "version": 3
      },
      "file_extension": ".py",
      "mimetype": "text/x-python",
      "name": "python",
      "nbconvert_exporter": "python",
      "pygments_lexer": "ipython3",
      "version": "3.8"
    },
    "kernelspec": {
      "name": "python",
      "display_name": "Python (Pyodide)",
      "language": "python"
    }
  },
  "nbformat_minor": 4,
  "nbformat": 4,
  "cells": [
    {
      "cell_type": "code",
      "source": "from IPython.display import HTML\nHTML(data='''\n<!DOCTYPE html>\n<html lang=\"en\">\n    <head>\n        <meta name=\"viewport\" content=\"width=device-width, initial-scale=1\">\n        <link href=\"https://www.howtofixtheelection.com/votekit/src/ui/sandbox.css\" rel=\"stylesheet\">\n        <link href=\"https://www.howtofixtheelection.com/votekit/src/menu/button.css\" rel=\"stylesheet\">\n        <script type=\"module\" src=\"https://www.howtofixtheelection.com/votekit/src/ui/addSandboxes.js\"></script>\n        <style>\n            ul li{\n                display: inline;\n                padding-right: 20px;\n            }\n        </style>\n    </head>\n    <body> \n        <ul>\n            <li><a href=\"./votekit/src/pages/\">Pages</a></li>\n            <li><a href=\"./votekit/src\">src/</a></li>\n            <li><a href=\"./votekit/src/test/test.html\">unitTest</a></li>\n            <li><a href=\"./votekit/src/test.html\">testExamples</a></li>\n            <li><a href=\"./votekit/docs\">docs</a></li>\n            <li><a href=\"./votekit/dist\">dist</a></li>\n            <li><a href=\"https://codesandbox.io/s/github/paretoman/votekit\">editCodeSandbox</a></li>\n        </ul>\n        <div class=\"sim-sandbox\">\n            <div class=\"sim-container\">\n                <div class=\"sandbox\" data-sandboxurl=\"./votekit/src/s/\"></div>\n            </div>\n        </div>\n    </body>\n</html>''')",
      "metadata": {
        "trusted": true
      },
      "execution_count": 21,
      "outputs": [
        {
          "execution_count": 21,
          "output_type": "execute_result",
          "data": {
            "text/plain": "<IPython.core.display.HTML object>",
            "text/html": "\n<!DOCTYPE html>\n<html lang=\"en\">\n    <head>\n        <meta name=\"viewport\" content=\"width=device-width, initial-scale=1\">\n        <link href=\"https://www.howtofixtheelection.com/votekit/src/ui/sandbox.css\" rel=\"stylesheet\">\n        <link href=\"https://www.howtofixtheelection.com/votekit/src/menu/button.css\" rel=\"stylesheet\">\n        <script type=\"module\" src=\"https://www.howtofixtheelection.com/votekit/src/ui/addSandboxes.js\"></script>\n        <style>\n            ul li{\n                display: inline;\n                padding-right: 20px;\n            }\n        </style>\n    </head>\n    <body> \n        <ul>\n            <li><a href=\"./votekit/src/pages/\">Pages</a></li>\n            <li><a href=\"./votekit/src\">src/</a></li>\n            <li><a href=\"./votekit/src/test/test.html\">unitTest</a></li>\n            <li><a href=\"./votekit/src/test.html\">testExamples</a></li>\n            <li><a href=\"./votekit/docs\">docs</a></li>\n            <li><a href=\"./votekit/dist\">dist</a></li>\n            <li><a href=\"https://codesandbox.io/s/github/paretoman/votekit\">editCodeSandbox</a></li>\n        </ul>\n        <div class=\"sim-sandbox\">\n            <div class=\"sim-container\">\n                <div class=\"sandbox\" data-sandboxurl=\"./votekit/src/s/\"></div>\n            </div>\n        </div>\n    </body>\n</html>"
          },
          "metadata": {}
        }
      ]
    },
    {
      "cell_type": "code",
      "source": "",
      "metadata": {},
      "execution_count": null,
      "outputs": []
    }
  ]
}